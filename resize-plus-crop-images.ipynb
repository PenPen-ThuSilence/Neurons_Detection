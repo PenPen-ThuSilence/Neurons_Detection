{
 "cells": [
  {
   "cell_type": "code",
   "execution_count": 1,
   "metadata": {},
   "outputs": [],
   "source": [
    "import skimage as ski\n",
    "import skimage.io as sko\n",
    "\n",
    "from skimage.util import img_as_uint, img_as_ubyte\n",
    "from skimage.transform import rescale\n",
    "from skimage.exposure import cumulative_distribution, rescale_intensity\n",
    "\n",
    "import numpy as np"
   ]
  },
  {
   "cell_type": "code",
   "execution_count": 3,
   "metadata": {},
   "outputs": [
    {
     "name": "stdout",
     "output_type": "stream",
     "text": [
      "Processing 0 out of 20...\n"
     ]
    },
    {
     "name": "stderr",
     "output_type": "stream",
     "text": [
      "/opt/miniconda3/envs/dev/lib/python3.6/site-packages/skimage/util/dtype.py:130: UserWarning: Possible precision loss when converting from float64 to uint16\n",
      "  .format(dtypeobj_in, dtypeobj_out))\n",
      "/opt/miniconda3/envs/dev/lib/python3.6/site-packages/skimage/util/dtype.py:130: UserWarning: Possible precision loss when converting from uint16 to uint8\n",
      "  .format(dtypeobj_in, dtypeobj_out))\n"
     ]
    },
    {
     "name": "stdout",
     "output_type": "stream",
     "text": [
      "Processing 1 out of 20...\n",
      "Processing 2 out of 20...\n",
      "Processing 3 out of 20...\n",
      "Processing 4 out of 20...\n",
      "Processing 5 out of 20...\n",
      "Processing 6 out of 20...\n",
      "Processing 7 out of 20...\n",
      "Processing 8 out of 20...\n",
      "Processing 9 out of 20...\n",
      "Processing 10 out of 20...\n",
      "Processing 11 out of 20...\n",
      "Processing 12 out of 20...\n",
      "Processing 13 out of 20...\n",
      "Processing 14 out of 20...\n",
      "Processing 15 out of 20...\n",
      "Processing 16 out of 20...\n",
      "Processing 17 out of 20...\n",
      "Processing 18 out of 20...\n",
      "Processing 19 out of 20...\n",
      "Processing 20 out of 20...\n"
     ]
    }
   ],
   "source": [
    "# Preprocess the images\n",
    "\n",
    "LEVEL_LOW  = 0.30\n",
    "LEVEL_HIGH = 0.98\n",
    "\n",
    "x_range = slice(5000, 20000)\n",
    "y_range = slice(5000, 15000)\n",
    "\n",
    "for k in range(21):\n",
    "    print(\"Processing {} out of 20...\".format(k))\n",
    "    \n",
    "    I = sko.imread(\"input-images/t{}.tif\".format(k))\n",
    "    \n",
    "    # Fix the intensity levels\n",
    "    Imin, Imax = I.min(), I.max()\n",
    "    I = (I - Imin) / (Imax - Imin)\n",
    "    \n",
    "    I1 = rescale(I, 0.5, mode='reflect', multichannel=False, anti_aliasing=True)\n",
    "    I2 = img_as_uint(I1)\n",
    "    \n",
    "    cdf, intensities = cumulative_distribution(I2)\n",
    "\n",
    "    INDEX_LOW  = np.argwhere(LEVEL_LOW  < cdf)[0]\n",
    "    INDEX_HIGH = np.argwhere(LEVEL_HIGH > cdf)[-1]\n",
    "\n",
    "    INTENSITY_LOW  = intensities[INDEX_LOW][0]\n",
    "    INTENSITY_HIGH = intensities[INDEX_HIGH][0]\n",
    "    \n",
    "    I3 = rescale_intensity(I2, in_range=(INTENSITY_LOW, INTENSITY_HIGH))\n",
    "    \n",
    "    I4 = img_as_ubyte(I3)\n",
    "    \n",
    "    I5 = I4[y_range, x_range]\n",
    "    \n",
    "    sko.imsave('output-images/cropped-t{}.tif'.format(k), I5, compress=9)"
   ]
  }
 ],
 "metadata": {
  "kernelspec": {
   "display_name": "Python 3",
   "language": "python",
   "name": "python3"
  },
  "language_info": {
   "codemirror_mode": {
    "name": "ipython",
    "version": 3
   },
   "file_extension": ".py",
   "mimetype": "text/x-python",
   "name": "python",
   "nbconvert_exporter": "python",
   "pygments_lexer": "ipython3",
   "version": "3.6.6"
  }
 },
 "nbformat": 4,
 "nbformat_minor": 2
}
