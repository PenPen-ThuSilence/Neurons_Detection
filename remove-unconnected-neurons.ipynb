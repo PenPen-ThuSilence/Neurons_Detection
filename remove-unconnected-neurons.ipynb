{
 "cells": [
  {
   "cell_type": "code",
   "execution_count": 1,
   "metadata": {},
   "outputs": [
    {
     "name": "stdout",
     "output_type": "stream",
     "text": [
      "Using matplotlib backend: Qt5Agg\n"
     ]
    }
   ],
   "source": [
    "import numpy as np\n",
    "\n",
    "from skimage.io import imsave, imread\n",
    "from skimage.util import img_as_ubyte\n",
    "from skimage.measure import label, regionprops\n",
    "from skimage.morphology import disk\n",
    "from skimage.filters.rank import enhance_contrast\n",
    "\n",
    "import matplotlib.pyplot as plt\n",
    "%matplotlib"
   ]
  },
  {
   "cell_type": "code",
   "execution_count": 3,
   "metadata": {},
   "outputs": [],
   "source": [
    "def remove_regions(I, LABEL_THRESHOLD, INTENSITY_THRESHOLD, EXTENT_THRESHOLD, AREA_THRESHOLD):\n",
    "    I_labels    = label(I > LABEL_THRESHOLD)\n",
    "    properties  = regionprops(I_labels)\n",
    "\n",
    "    I_result    = I.copy()\n",
    "\n",
    "    for p in properties:\n",
    "        # Manually computed properties\n",
    "        c = np.asarray(p.coords)\n",
    "        m = np.median(I[c[:, 0], c[:, 1]])\n",
    "\n",
    "        if m > INTENSITY_THRESHOLD and p.extent > EXTENT_THRESHOLD and p.area < AREA_THRESHOLD:\n",
    "            I_result[c[:, 0], c[:, 1]] = 0\n",
    "            \n",
    "    return I_result"
   ]
  },
  {
   "cell_type": "code",
   "execution_count": 4,
   "metadata": {},
   "outputs": [],
   "source": [
    "def preprocess(k):\n",
    "    LABEL_THRESHOLD      = 20\n",
    "    INTENSITY_THRESHOLD  = 180\n",
    "    EXTENT_THRESHOLD     = 0.25\n",
    "    AREA_THRESHOLD       = 300\n",
    "\n",
    "    print(\"Processing image {}...\".format(k))\n",
    "\n",
    "    I1 = imread(\"output-images/cropped-t{}.tif\".format(k))\n",
    "    I2 = enhance_contrast(I1, disk(1))\n",
    "    I3 = remove_regions(I2, LABEL_THRESHOLD, INTENSITY_THRESHOLD, EXTENT_THRESHOLD,AREA_THRESHOLD)\n",
    "    imsave(\"output-images/preprocessed-t{}.tif\".format(k), I3)"
   ]
  },
  {
   "cell_type": "code",
   "execution_count": 8,
   "metadata": {},
   "outputs": [
    {
     "name": "stdout",
     "output_type": "stream",
     "text": [
      "Processing image 0...\n",
      "Processing image 1...\n",
      "Processing image 4...\n",
      "Processing image 5...\n",
      "Processing image 6...\n",
      "Processing image 7...\n",
      "Processing image 2...\n",
      "Processing image 3...\n",
      "Processing image 9...\n",
      "Processing image 10...\n",
      "Processing image 8...\n",
      "Processing image 11...\n",
      "Processing image 12...\n",
      "Processing image 13...\n",
      "Processing image 14...\n",
      "Processing image 15...\n",
      "Processing image 16...\n",
      "Processing image 17...\n",
      "Processing image 18...\n",
      "Processing image 19...\n",
      "Processing image 20...\n"
     ]
    }
   ],
   "source": [
    "from multiprocessing import Pool\n",
    "\n",
    "pool = Pool(processes=11)\n",
    "pool.map(preprocess, range(21))\n",
    "pool.close()\n",
    "pool.join()"
   ]
  }
 ],
 "metadata": {
  "kernelspec": {
   "display_name": "Python 3",
   "language": "python",
   "name": "python3"
  },
  "language_info": {
   "codemirror_mode": {
    "name": "ipython",
    "version": 3
   },
   "file_extension": ".py",
   "mimetype": "text/x-python",
   "name": "python",
   "nbconvert_exporter": "python",
   "pygments_lexer": "ipython3",
   "version": "3.6.6"
  }
 },
 "nbformat": 4,
 "nbformat_minor": 2
}
