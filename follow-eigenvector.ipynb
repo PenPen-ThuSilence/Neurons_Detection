{
 "cells": [
  {
   "cell_type": "code",
   "execution_count": 10,
   "metadata": {},
   "outputs": [
    {
     "name": "stdout",
     "output_type": "stream",
     "text": [
      "Using matplotlib backend: MacOSX\n"
     ]
    }
   ],
   "source": [
    "import numpy as np\n",
    "\n",
    "from skimage.feature import hessian_matrix\n",
    "from skimage.io import imread\n",
    "\n",
    "import matplotlib.pyplot as plt\n",
    "%matplotlib"
   ]
  },
  {
   "cell_type": "code",
   "execution_count": 161,
   "metadata": {},
   "outputs": [],
   "source": [
    "I = imread(\"cropped-t15.tif\")[5800:6000, 5900:6100]"
   ]
  },
  {
   "cell_type": "code",
   "execution_count": 162,
   "metadata": {},
   "outputs": [
    {
     "name": "stderr",
     "output_type": "stream",
     "text": [
      "/Users/valeriu/Software/Miniconda3/envs/neurons/lib/python3.6/site-packages/skimage/feature/corner.py:167: UserWarning: deprecation warning: the default order of the hessian matrix values will be \"row-column\" instead of \"xy\" starting in skimage version 0.15. Use order=\"rc\" or order=\"xy\" to set this explicitly\n",
      "  warn('deprecation warning: the default order of the hessian matrix values '\n"
     ]
    },
    {
     "data": {
      "text/plain": [
       "<matplotlib.quiver.Quiver at 0x1c8e80be48>"
      ]
     },
     "execution_count": 162,
     "metadata": {},
     "output_type": "execute_result"
    }
   ],
   "source": [
    "# Eigenvector components for each pixels\n",
    "U = np.zeros(I.shape)\n",
    "V = np.zeros(I.shape)\n",
    "\n",
    "# Eigenvalue for each pixel\n",
    "E = np.zeros(I.shape)\n",
    "\n",
    "He = hessian_matrix(I, sigma=1)\n",
    "\n",
    "for r in range(U.shape[0]):\n",
    "    for c in range(U.shape[1]):\n",
    "        \n",
    "        Hrr = He[0][r, c]\n",
    "        Hrc = He[1][r, c]\n",
    "        Hcc = He[2][r, c]\n",
    "\n",
    "        eigval, eigvect = np.linalg.eigh([[Hrr, Hrc], [Hrc, Hcc]])\n",
    "        \n",
    "        E[r, c] = eigval[0]\n",
    "        \n",
    "        U[r, c] = eigval[0] * eigvect[0, 0]\n",
    "        V[r, c] = eigval[0] * eigvect[1, 0]\n",
    "\n",
    "plt.figure()\n",
    "plt.imshow(I)\n",
    "plt.quiver(U, V, headwidth=0, headlength=0, headaxislength=0)"
   ]
  },
  {
   "cell_type": "code",
   "execution_count": 163,
   "metadata": {},
   "outputs": [
    {
     "name": "stdout",
     "output_type": "stream",
     "text": [
      "58 56 2.2228838621701574 -2.103868112830301 -0.20404219281403158\n",
      "56 54 2.234019888565834 -2.318442567288025 -0.21464203585733455\n",
      "54 52 2.1527840771443003 -2.179448100827748 -0.20422725149540555\n",
      "52 50 2.180613810967705 -1.9587036401199776 -0.19540950212768113\n",
      "50 49 1.927311495312974 -2.0050917166147375 -0.1854115229788719\n",
      "49 47 2.0796946822227556 -2.038170437060795 -0.1941278925722731\n",
      "47 45 2.283503243708596 -2.1265754304033657 -0.20802467936091878\n",
      "45 43 2.3116701715094736 -2.403244270024233 -0.22230511568313738\n",
      "43 41 1.909194443566941 -2.2886726723632225 -0.19869626205251176\n",
      "42 39 1.0594376710404299 -1.2726747793661866 -0.11039543615474814\n",
      "41 38 1.300529364897393 -1.4178081314263287 -0.1282628642280988\n",
      "40 37 1.839017570013046 -1.6474032519063089 -0.16459948828337048\n",
      "39 36 2.3593381324068408 -1.8952171753494385 -0.20175149251567995\n",
      "37 35 2.6970908955187087 -2.407615698469278 -0.24102478111601922\n",
      "35 33 2.2988474401639714 -1.8943485399425462 -0.19858673944686572\n",
      "33 32 1.209156760471828 -1.054861843166779 -0.10697442227132697\n",
      "32 31 1.0106014026873258 -0.7900659230961591 -0.08551853231126447\n",
      "31 31 0.21980923078284892 -0.15412303207016956 -0.017897238390551302\n",
      "31 31 0.21980923078284892 -0.15412303207016956 -0.017897238390551302\n",
      "31 31 0.21980923078284892 -0.15412303207016956 -0.017897238390551302\n",
      "31 31 0.21980923078284892 -0.15412303207016956 -0.017897238390551302\n",
      "31 31 0.21980923078284892 -0.15412303207016956 -0.017897238390551302\n",
      "31 31 0.21980923078284892 -0.15412303207016956 -0.017897238390551302\n",
      "31 31 0.21980923078284892 -0.15412303207016956 -0.017897238390551302\n",
      "31 31 0.21980923078284892 -0.15412303207016956 -0.017897238390551302\n",
      "31 31 0.21980923078284892 -0.15412303207016956 -0.017897238390551302\n",
      "31 31 0.21980923078284892 -0.15412303207016956 -0.017897238390551302\n",
      "31 31 0.21980923078284892 -0.15412303207016956 -0.017897238390551302\n",
      "31 31 0.21980923078284892 -0.15412303207016956 -0.017897238390551302\n",
      "31 31 0.21980923078284892 -0.15412303207016956 -0.017897238390551302\n",
      "31 31 0.21980923078284892 -0.15412303207016956 -0.017897238390551302\n",
      "31 31 0.21980923078284892 -0.15412303207016956 -0.017897238390551302\n",
      "31 31 0.21980923078284892 -0.15412303207016956 -0.017897238390551302\n",
      "31 31 0.21980923078284892 -0.15412303207016956 -0.017897238390551302\n",
      "31 31 0.21980923078284892 -0.15412303207016956 -0.017897238390551302\n"
     ]
    }
   ],
   "source": [
    "# Start position\n",
    "r = 58\n",
    "c = 56\n",
    "\n",
    "a = 15\n",
    "\n",
    "plt.imshow(I)\n",
    "plt.quiver(U, V, headwidth=0, headlength=0, headaxislength=0)\n",
    "\n",
    "plt.plot(c, r, '*r')\n",
    "\n",
    "for i in range(35):\n",
    "    \n",
    "    # Compute displacement\n",
    "    dr = a * U[r, c]\n",
    "    dc = a * V[r, c]\n",
    "\n",
    "    print(r, c, dr, dc, E[r, c])\n",
    "    \n",
    "    # Apply displacement\n",
    "    r  = r - int(dr)\n",
    "    c  = c + int(dc)\n",
    "       \n",
    "    plt.plot(c, r, '.r')\n",
    "\n",
    "plt.show()"
   ]
  },
  {
   "cell_type": "code",
   "execution_count": null,
   "metadata": {},
   "outputs": [],
   "source": []
  }
 ],
 "metadata": {
  "kernelspec": {
   "display_name": "Python 3",
   "language": "python",
   "name": "python3"
  },
  "language_info": {
   "codemirror_mode": {
    "name": "ipython",
    "version": 3
   },
   "file_extension": ".py",
   "mimetype": "text/x-python",
   "name": "python",
   "nbconvert_exporter": "python",
   "pygments_lexer": "ipython3",
   "version": "3.6.6"
  }
 },
 "nbformat": 4,
 "nbformat_minor": 2
}
